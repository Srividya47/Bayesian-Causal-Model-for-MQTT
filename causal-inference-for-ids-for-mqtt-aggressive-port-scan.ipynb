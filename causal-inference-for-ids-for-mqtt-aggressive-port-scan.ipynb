{
 "cells": [
  {
   "cell_type": "code",
   "execution_count": null,
   "metadata": {
    "_cell_guid": "b4452223-d531-4383-bac7-072aff1c6c5c",
    "_uuid": "8363a382-cb04-4acf-af41-e94343937b67",
    "execution": {
     "iopub.execute_input": "2022-12-29T11:37:32.315282Z",
     "iopub.status.busy": "2022-12-29T11:37:32.313798Z",
     "iopub.status.idle": "2022-12-29T11:37:32.343887Z",
     "shell.execute_reply": "2022-12-29T11:37:32.342780Z",
     "shell.execute_reply.started": "2022-12-29T11:37:32.315138Z"
    },
    "jupyter": {
     "outputs_hidden": false
    }
   },
   "outputs": [],
   "source": [
    "import numpy as np # linear algebra\n",
    "import pandas as pd # data processing, CSV file I/O (e.g. pd.read_csv)\n",
    "import matplotlib.pyplot as plt\n",
    "import time\n",
    "import subprocess\n",
    "\n",
    "# Using the module ....\n",
    "\n",
    "import os\n",
    "import platform\n",
    "\n",
    "from sklearn import preprocessing\n",
    "import numpy as np\n",
    "\n",
    "from causalnex.structure.notears import from_pandas\n",
    "from causalnex.structure import StructureModel\n",
    "from causalnex.structure.notears import from_pandas\n",
    "\n",
    "from IPython.display import Image\n",
    "from causalnex.plots import plot_structure, NODE_STYLE, EDGE_STYLE\n",
    "\n",
    "import pygraphviz\n",
    "import networkx as nx\n",
    "\n",
    "from sklearn.metrics import classification_report\n",
    "from sklearn.feature_selection import SelectKBest\n",
    "from sklearn.neighbors import KNeighborsClassifier\n",
    "from sklearn.model_selection import train_test_split\n",
    "from sklearn.ensemble import RandomForestRegressor\n",
    "from sklearn import tree\n",
    "from sklearn.naive_bayes import GaussianNB\n",
    "from sklearn import svm\n",
    "from sklearn.metrics import roc_auc_score\n",
    "from sklearn.metrics import roc_curve\n",
    "from sklearn import metrics\n",
    "\n",
    "from sklearn.model_selection import train_test_split\n",
    "\n",
    "from causalnex.network import BayesianNetwork\n",
    "from causalnex.evaluation import classification_report\n",
    "\n",
    "import dowhy\n",
    "from dowhy import CausalModel\n",
    "import dowhy.datasets\n",
    "import numpy as np\n",
    "import pandas as pd\n",
    "import matplotlib.pyplot as plt\n",
    "import math\n",
    "import dowhy.datasets, dowhy.plotter\n",
    "\n",
    "\n",
    "# Avoiding unnecessary log messges and warnings\n",
    "import logging\n",
    "logging.getLogger(\"dowhy\").setLevel(logging.WARNING)\n",
    "import warnings\n",
    "from sklearn.exceptions import DataConversionWarning\n",
    "warnings.filterwarnings(action='ignore', category=DataConversionWarning)\n",
    "\n",
    "# Load some sample data"
   ]
  },
  {
   "cell_type": "markdown",
   "metadata": {},
   "source": [
    "Read the dataset"
   ]
  },
  {
   "cell_type": "code",
   "execution_count": null,
   "metadata": {
    "_cell_guid": "9a659d8a-c7a9-4607-a832-6d5430d2cde9",
    "_uuid": "eec9b0d6-dcc8-46a8-a050-7b6bd3e2e0c7",
    "execution": {
     "iopub.execute_input": "2022-12-29T11:39:44.924890Z",
     "iopub.status.busy": "2022-12-29T11:39:44.923787Z",
     "iopub.status.idle": "2022-12-29T11:39:44.933618Z",
     "shell.execute_reply": "2022-12-29T11:39:44.932492Z",
     "shell.execute_reply.started": "2022-12-29T11:39:44.924855Z"
    },
    "jupyter": {
     "outputs_hidden": false
    }
   },
   "outputs": [],
   "source": [
    "df = pd.read_csv(\"replace this with the dataset path\")"
   ]
  },
  {
   "cell_type": "markdown",
   "metadata": {
    "_cell_guid": "62d668e6-a6f4-4231-b0eb-f542808c3fc4",
    "_uuid": "b59f5059-3a7a-4348-916a-6b61652960d5",
    "execution": {
     "iopub.execute_input": "2022-12-29T11:39:44.983046Z",
     "iopub.status.busy": "2022-12-29T11:39:44.981418Z",
     "iopub.status.idle": "2022-12-29T11:39:44.987734Z",
     "shell.execute_reply": "2022-12-29T11:39:44.986473Z",
     "shell.execute_reply.started": "2022-12-29T11:39:44.982981Z"
    },
    "jupyter": {
     "outputs_hidden": false
    }
   },
   "source": [
    "Different unique values of the target attributes"
   ]
  },
  {
   "cell_type": "code",
   "execution_count": null,
   "metadata": {
    "_cell_guid": "a0c022fc-cccf-4498-a1b7-1c983506d99c",
    "_uuid": "e02e1876-849e-4ba3-8865-7751dc9a3e47",
    "execution": {
     "iopub.execute_input": "2022-12-29T11:39:44.989499Z",
     "iopub.status.busy": "2022-12-29T11:39:44.989123Z",
     "iopub.status.idle": "2022-12-29T11:39:45.015150Z",
     "shell.execute_reply": "2022-12-29T11:39:45.013616Z",
     "shell.execute_reply.started": "2022-12-29T11:39:44.989466Z"
    },
    "jupyter": {
     "outputs_hidden": false
    }
   },
   "outputs": [],
   "source": [
    "df['is_attack'].unique()"
   ]
  },
  {
   "cell_type": "markdown",
   "metadata": {},
   "source": [
    "# Data Preprocessing"
   ]
  },
  {
   "cell_type": "code",
   "execution_count": null,
   "metadata": {
    "_cell_guid": "e396b1ca-6e7b-4f2e-ac2b-ebf7f4d09974",
    "_uuid": "110436e3-71f3-4971-b8b1-edac1e01071a",
    "execution": {
     "iopub.execute_input": "2022-12-29T11:39:45.790772Z",
     "iopub.status.busy": "2022-12-29T11:39:45.790268Z",
     "iopub.status.idle": "2022-12-29T11:39:50.181198Z",
     "shell.execute_reply": "2022-12-29T11:39:50.179841Z",
     "shell.execute_reply.started": "2022-12-29T11:39:45.790725Z"
    },
    "jupyter": {
     "outputs_hidden": false
    }
   },
   "outputs": [],
   "source": [
    "# removing columns that have all nan elements and those rows that have the same value as it's column name\n",
    "nanAttr = []\n",
    "\n",
    "for i in df.columns:\n",
    "    df.drop(df[df[i] == i].index, inplace = True)\n",
    "    count = df[i].isna().sum()\n",
    "    if count > len(df)*0.9 :\n",
    "        nanAttr.append(i)\n",
    "\n"
   ]
  },
  {
   "cell_type": "code",
   "execution_count": null,
   "metadata": {
    "_cell_guid": "675e4e8f-38c9-4a43-9914-1ad3f95eaafd",
    "_uuid": "9342fabe-ab5d-4aa1-bce3-b8b552361f4a",
    "execution": {
     "iopub.execute_input": "2022-12-29T11:39:50.183684Z",
     "iopub.status.busy": "2022-12-29T11:39:50.183076Z",
     "iopub.status.idle": "2022-12-29T11:39:50.189096Z",
     "shell.execute_reply": "2022-12-29T11:39:50.187849Z",
     "shell.execute_reply.started": "2022-12-29T11:39:50.183641Z"
    },
    "jupyter": {
     "outputs_hidden": false
    }
   },
   "outputs": [],
   "source": [
    "#removing attributes with more than 90 perc values nan\n",
    "df.drop(nanAttr,axis=1 ,inplace=True)"
   ]
  },
  {
   "cell_type": "code",
   "execution_count": null,
   "metadata": {
    "_cell_guid": "7debc0cf-abcd-4ea4-8ffe-386285365bee",
    "_uuid": "cc717970-ce69-4b55-9a2b-69e3b0810eb6",
    "execution": {
     "iopub.execute_input": "2022-12-29T11:39:50.855764Z",
     "iopub.status.busy": "2022-12-29T11:39:50.855360Z",
     "iopub.status.idle": "2022-12-29T11:39:51.615192Z",
     "shell.execute_reply": "2022-12-29T11:39:51.613993Z",
     "shell.execute_reply.started": "2022-12-29T11:39:50.855731Z"
    },
    "jupyter": {
     "outputs_hidden": false
    }
   },
   "outputs": [],
   "source": [
    "#Replacing the NAN values with the median\n",
    "\n",
    "df.fillna(df.median(), inplace=True)"
   ]
  },
  {
   "cell_type": "code",
   "execution_count": null,
   "metadata": {
    "_cell_guid": "209b596b-259d-41fa-9339-e04e1b871747",
    "_uuid": "4bca0e0a-15b5-4edb-929a-59592d541b68",
    "jupyter": {
     "outputs_hidden": false
    }
   },
   "outputs": [],
   "source": []
  },
  {
   "cell_type": "code",
   "execution_count": null,
   "metadata": {
    "_cell_guid": "70bac680-fb77-4d0c-9eb9-2baae6abab70",
    "_uuid": "eebc49e7-df05-4953-a96b-4bb570dc4001",
    "execution": {
     "iopub.execute_input": "2022-12-29T11:39:51.617136Z",
     "iopub.status.busy": "2022-12-29T11:39:51.616668Z",
     "iopub.status.idle": "2022-12-29T11:39:51.854466Z",
     "shell.execute_reply": "2022-12-29T11:39:51.853112Z",
     "shell.execute_reply.started": "2022-12-29T11:39:51.617101Z"
    },
    "jupyter": {
     "outputs_hidden": false
    }
   },
   "outputs": [],
   "source": [
    "#eleminating extranous variables\n",
    "for c in df.columns.tolist()[:-1]:\n",
    "    if len(df[c].unique()) ==1:\n",
    "        print(c)\n",
    "        df.pop(c)"
   ]
  },
  {
   "cell_type": "code",
   "execution_count": null,
   "metadata": {
    "_cell_guid": "6f864683-e213-4f55-8bcc-3f20f32d8b0b",
    "_uuid": "fa7c3d9f-aa35-4a30-a92c-f07f8c04287d",
    "execution": {
     "iopub.execute_input": "2022-12-29T11:39:51.859091Z",
     "iopub.status.busy": "2022-12-29T11:39:51.858669Z",
     "iopub.status.idle": "2022-12-29T11:39:52.024619Z",
     "shell.execute_reply": "2022-12-29T11:39:52.023204Z",
     "shell.execute_reply.started": "2022-12-29T11:39:51.859053Z"
    },
    "jupyter": {
     "outputs_hidden": false
    }
   },
   "outputs": [],
   "source": [
    "df.info()"
   ]
  },
  {
   "cell_type": "code",
   "execution_count": null,
   "metadata": {
    "_cell_guid": "747d4fb8-d038-467f-9688-410f4827786f",
    "_uuid": "e811f685-3b9d-4134-9a74-e70c2bba6abb",
    "execution": {
     "iopub.execute_input": "2022-12-29T11:39:52.079252Z",
     "iopub.status.busy": "2022-12-29T11:39:52.078092Z",
     "iopub.status.idle": "2022-12-29T11:39:52.090318Z",
     "shell.execute_reply": "2022-12-29T11:39:52.089135Z",
     "shell.execute_reply.started": "2022-12-29T11:39:52.079214Z"
    },
    "jupyter": {
     "outputs_hidden": false
    }
   },
   "outputs": [],
   "source": [
    "col = df.columns.tolist()"
   ]
  },
  {
   "cell_type": "code",
   "execution_count": null,
   "metadata": {
    "_cell_guid": "cbb62c40-8d36-45d9-9084-ff8a6886ff0c",
    "_uuid": "0c1fd874-e53a-4990-8da8-c9440ae2caca",
    "execution": {
     "iopub.execute_input": "2022-12-29T11:39:52.105758Z",
     "iopub.status.busy": "2022-12-29T11:39:52.105237Z",
     "iopub.status.idle": "2022-12-29T11:39:52.120151Z",
     "shell.execute_reply": "2022-12-29T11:39:52.118466Z",
     "shell.execute_reply.started": "2022-12-29T11:39:52.105711Z"
    },
    "jupyter": {
     "outputs_hidden": false
    }
   },
   "outputs": [],
   "source": [
    "df_feat = df.iloc[:,:]"
   ]
  },
  {
   "cell_type": "code",
   "execution_count": null,
   "metadata": {
    "_cell_guid": "38c68f50-c85c-4894-b6c8-d3d0d2302f6a",
    "_uuid": "5452b1ed-b9f9-4e7a-8eb7-d8463b8c18ec",
    "execution": {
     "iopub.execute_input": "2022-12-29T11:39:52.245764Z",
     "iopub.status.busy": "2022-12-29T11:39:52.245315Z",
     "iopub.status.idle": "2022-12-29T11:39:52.308612Z",
     "shell.execute_reply": "2022-12-29T11:39:52.307426Z",
     "shell.execute_reply.started": "2022-12-29T11:39:52.245727Z"
    },
    "jupyter": {
     "outputs_hidden": false
    }
   },
   "outputs": [],
   "source": [
    "#finding the non numeric column names\n",
    "non_numeric_columns = list(df_feat.select_dtypes(exclude=[np.number]).columns)\n",
    "print(non_numeric_columns)"
   ]
  },
  {
   "cell_type": "code",
   "execution_count": null,
   "metadata": {
    "_cell_guid": "bb07ec10-fbb8-40eb-b7d8-39e8e8e33eb6",
    "_uuid": "eea044ab-a1b1-4515-8664-5443c10cc3b3",
    "execution": {
     "iopub.execute_input": "2022-12-29T11:39:52.310863Z",
     "iopub.status.busy": "2022-12-29T11:39:52.310352Z",
     "iopub.status.idle": "2022-12-29T11:39:55.478363Z",
     "shell.execute_reply": "2022-12-29T11:39:55.477186Z",
     "shell.execute_reply.started": "2022-12-29T11:39:52.310798Z"
    },
    "jupyter": {
     "outputs_hidden": false
    }
   },
   "outputs": [],
   "source": [
    "#Transform the non-numeric data to numeric values\n",
    "from sklearn.preprocessing import LabelEncoder\n",
    "\n",
    "le = LabelEncoder()\n",
    "\n",
    "for col in non_numeric_columns:\n",
    "    df_feat[col] = le.fit_transform(df_feat[col].astype(str))\n",
    "\n",
    "df_feat.head(16)"
   ]
  },
  {
   "cell_type": "code",
   "execution_count": null,
   "metadata": {
    "_cell_guid": "5784cd26-1e51-486f-a372-0b2f2d221870",
    "_uuid": "9b407408-138b-4110-a94d-fa4d4bae987f",
    "execution": {
     "iopub.execute_input": "2022-12-29T11:39:57.538564Z",
     "iopub.status.busy": "2022-12-29T11:39:57.538086Z",
     "iopub.status.idle": "2022-12-29T11:39:57.566103Z",
     "shell.execute_reply": "2022-12-29T11:39:57.564922Z",
     "shell.execute_reply.started": "2022-12-29T11:39:57.538527Z"
    },
    "jupyter": {
     "outputs_hidden": false
    }
   },
   "outputs": [],
   "source": [
    "df_feat.info()"
   ]
  },
  {
   "cell_type": "code",
   "execution_count": null,
   "metadata": {
    "_cell_guid": "79fa8aee-41a9-4171-87e4-54f84dccf460",
    "_uuid": "b6ef8976-e04b-404b-9c84-1b1474b4b175",
    "execution": {
     "iopub.execute_input": "2022-12-29T11:39:57.600656Z",
     "iopub.status.busy": "2022-12-29T11:39:57.600166Z",
     "iopub.status.idle": "2022-12-29T11:41:23.769178Z",
     "shell.execute_reply": "2022-12-29T11:41:23.767297Z",
     "shell.execute_reply.started": "2022-12-29T11:39:57.600608Z"
    },
    "jupyter": {
     "outputs_hidden": false
    }
   },
   "outputs": [],
   "source": [
    "#structure learning\n",
    "\n",
    "sm = from_pandas(df_feat)"
   ]
  },
  {
   "cell_type": "code",
   "execution_count": null,
   "metadata": {
    "_cell_guid": "6a651679-0500-4f2b-b347-a5eed9011161",
    "_uuid": "465527c2-520c-4512-9b00-5ad7ea32a9dd",
    "execution": {
     "iopub.execute_input": "2022-12-29T11:41:23.780364Z",
     "iopub.status.busy": "2022-12-29T11:41:23.779006Z",
     "iopub.status.idle": "2022-12-29T11:41:23.806486Z",
     "shell.execute_reply": "2022-12-29T11:41:23.804485Z",
     "shell.execute_reply.started": "2022-12-29T11:41:23.780286Z"
    },
    "jupyter": {
     "outputs_hidden": false
    }
   },
   "outputs": [],
   "source": [
    "sm.size()"
   ]
  },
  {
   "cell_type": "code",
   "execution_count": null,
   "metadata": {
    "_cell_guid": "142d202b-e7c3-4e8b-907b-db0c50bab10c",
    "_uuid": "ca36d069-1aee-420e-a186-fe0a8e8c3637",
    "execution": {
     "iopub.execute_input": "2022-12-29T11:41:23.855240Z",
     "iopub.status.busy": "2022-12-29T11:41:23.845405Z",
     "iopub.status.idle": "2022-12-29T11:41:23.874678Z",
     "shell.execute_reply": "2022-12-29T11:41:23.873322Z",
     "shell.execute_reply.started": "2022-12-29T11:41:23.855143Z"
    },
    "jupyter": {
     "outputs_hidden": false
    }
   },
   "outputs": [],
   "source": [
    "sm.edges.data()"
   ]
  },
  {
   "cell_type": "code",
   "execution_count": null,
   "metadata": {
    "_cell_guid": "a97b2f6d-c482-4b41-972e-3fcd73a37a91",
    "_uuid": "803198c2-2d14-4821-88ae-4d698ae78349",
    "execution": {
     "iopub.execute_input": "2022-12-29T11:41:23.893255Z",
     "iopub.status.busy": "2022-12-29T11:41:23.892406Z",
     "iopub.status.idle": "2022-12-29T11:41:23.898879Z",
     "shell.execute_reply": "2022-12-29T11:41:23.897979Z",
     "shell.execute_reply.started": "2022-12-29T11:41:23.893201Z"
    },
    "jupyter": {
     "outputs_hidden": false
    }
   },
   "outputs": [],
   "source": []
  },
  {
   "cell_type": "code",
   "execution_count": null,
   "metadata": {
    "_cell_guid": "a0a2f095-955f-4a87-b311-c3bb200e296f",
    "_uuid": "bcbd3c54-2d3d-4ac5-92e7-585ce8554221",
    "execution": {
     "iopub.execute_input": "2022-12-29T11:41:23.901592Z",
     "iopub.status.busy": "2022-12-29T11:41:23.900688Z",
     "iopub.status.idle": "2022-12-29T11:41:24.320939Z",
     "shell.execute_reply": "2022-12-29T11:41:24.319621Z",
     "shell.execute_reply.started": "2022-12-29T11:41:23.901546Z"
    },
    "jupyter": {
     "outputs_hidden": false
    }
   },
   "outputs": [],
   "source": [
    "#saving the structure as dot file (optional)\n",
    "nx.drawing.nx_pydot.write_dot(sm, 'graph.dot')"
   ]
  },
  {
   "cell_type": "code",
   "execution_count": null,
   "metadata": {
    "_cell_guid": "d5af10b2-23ad-4fe5-90cc-b32622f7359d",
    "_uuid": "f743756c-07b8-4043-9923-7046d836ec34",
    "execution": {
     "iopub.execute_input": "2022-12-29T11:41:24.375286Z",
     "iopub.status.busy": "2022-12-29T11:41:24.374519Z",
     "iopub.status.idle": "2022-12-29T11:41:26.712488Z",
     "shell.execute_reply": "2022-12-29T11:41:26.710548Z",
     "shell.execute_reply.started": "2022-12-29T11:41:24.375237Z"
    },
    "jupyter": {
     "outputs_hidden": false
    }
   },
   "outputs": [],
   "source": [
    "#filtering the edges with the threshold and reconstructing the DAG\n",
    "sm.remove_edges_below_threshold(0.8)\n",
    "viz = plot_structure(\n",
    "    sm,\n",
    "    graph_attributes={\"scale\": \"1\"},\n",
    "    all_node_attributes=NODE_STYLE.WEAK,\n",
    "    all_edge_attributes=EDGE_STYLE.WEAK,\n",
    ")\n",
    "filename = \"final_model_crude.png\"\n",
    "viz.draw(filename,prog=\"circo\")\n",
    "Image(filename)"
   ]
  },
  {
   "cell_type": "code",
   "execution_count": null,
   "metadata": {
    "_cell_guid": "033861df-9a3f-494a-b1c4-f3b43c133b73",
    "_uuid": "fa871f85-43b5-4db4-8370-8a46f3bfd7f4",
    "execution": {
     "iopub.execute_input": "2022-12-29T11:41:26.722501Z",
     "iopub.status.busy": "2022-12-29T11:41:26.722050Z",
     "iopub.status.idle": "2022-12-29T11:41:26.739014Z",
     "shell.execute_reply": "2022-12-29T11:41:26.737364Z",
     "shell.execute_reply.started": "2022-12-29T11:41:26.722463Z"
    },
    "jupyter": {
     "outputs_hidden": false
    }
   },
   "outputs": [],
   "source": [
    "#flipping the edges\n",
    "neighbors = []\n",
    "for i in sm.neighbors('is_attack'): \n",
    "    print(i)\n",
    "    neighbors.append(i)\n",
    "for i in neighbors:\n",
    "    sm.remove_edge(\"is_attack\",i)\n",
    "    sm.add_edge(i, \"is_attack\")"
   ]
  },
  {
   "cell_type": "code",
   "execution_count": null,
   "metadata": {
    "_cell_guid": "9aa0157c-8f31-4c65-9a1a-c7d3dbbf4deb",
    "_uuid": "e324d7f5-a7a4-4af7-bd21-d51896a5bbfe",
    "execution": {
     "iopub.execute_input": "2022-12-29T11:41:26.812645Z",
     "iopub.status.busy": "2022-12-29T11:41:26.811655Z",
     "iopub.status.idle": "2022-12-29T11:41:26.821991Z",
     "shell.execute_reply": "2022-12-29T11:41:26.820879Z",
     "shell.execute_reply.started": "2022-12-29T11:41:26.812590Z"
    },
    "jupyter": {
     "outputs_hidden": false
    }
   },
   "outputs": [],
   "source": [
    "#adding the edges\n",
    "sm.add_edge(\"ttl\", \"is_attack\")\n",
    "sm.add_edge(\"src_ip\", \"is_attack\")\n",
    "sm.add_edge(\"dst_ip\", \"is_attack\")\n",
    "sm.add_edge(\"timestamp\", \"is_attack\")\n",
    "sm.add_edge(\"ip_len\", \"is_attack\")\n",
    "sm.add_edge(\"protocol\", \"is_attack\")\n",
    "sm.add_edge(\"tcp_flag_push\", \"is_attack\")\n",
    "sm.add_edge(\"tcp_flag_reset\", \"is_attack\")\n",
    "sm.add_edge(\"src_port\", \"is_attack\")\n",
    "sm.add_edge(\"dst_port\", \"is_attack\")\n",
    "sm.add_edge(\"tcp_flag_fin\", \"is_attack\")\n",
    "sm.add_edge(\"ip_flag_df\", \"is_attack\")\n",
    "sm.add_edge(\"tcp_flag_syn\", \"is_attack\")"
   ]
  },
  {
   "cell_type": "code",
   "execution_count": null,
   "metadata": {
    "_cell_guid": "5763097a-2043-454b-a5fd-918c22886609",
    "_uuid": "86396ece-2432-4245-acf8-b821960f9da2",
    "execution": {
     "iopub.execute_input": "2022-12-29T11:41:26.894519Z",
     "iopub.status.busy": "2022-12-29T11:41:26.894103Z",
     "iopub.status.idle": "2022-12-29T11:41:29.468875Z",
     "shell.execute_reply": "2022-12-29T11:41:29.466810Z",
     "shell.execute_reply.started": "2022-12-29T11:41:26.894473Z"
    },
    "jupyter": {
     "outputs_hidden": false
    }
   },
   "outputs": [],
   "source": [
    "#getting the largest subgraph\n",
    "sm = sm.get_largest_subgraph()\n",
    "viz = plot_structure(\n",
    "    sm,\n",
    "    graph_attributes={\"scale\": \"2\"},\n",
    "    all_node_attributes=NODE_STYLE.WEAK,\n",
    "    all_edge_attributes=EDGE_STYLE.WEAK,\n",
    ")\n",
    "filename = \"final_model.png\"\n",
    "viz.draw(filename,prog=\"circo\")\n",
    "Image(filename)"
   ]
  },
  {
   "cell_type": "code",
   "execution_count": null,
   "metadata": {
    "_cell_guid": "6422a60e-19c2-416d-a5e5-84f111bf5238",
    "_uuid": "a5a4aef1-a866-41cc-9f17-f25416a62848",
    "execution": {
     "iopub.execute_input": "2022-12-29T11:41:29.471884Z",
     "iopub.status.busy": "2022-12-29T11:41:29.471465Z",
     "iopub.status.idle": "2022-12-29T11:41:29.501097Z",
     "shell.execute_reply": "2022-12-29T11:41:29.499714Z",
     "shell.execute_reply.started": "2022-12-29T11:41:29.471845Z"
    },
    "jupyter": {
     "outputs_hidden": false
    }
   },
   "outputs": [],
   "source": [
    "#saving the largest subgraph in dot format\n",
    "nx.drawing.nx_pydot.write_dot(sm, 'graphLargestSubgraph.dot')"
   ]
  },
  {
   "cell_type": "code",
   "execution_count": null,
   "metadata": {
    "_cell_guid": "f684bbcc-4191-4854-8a62-190bfd7ff8ed",
    "_uuid": "7c4f6d06-07ec-48b6-b148-2bf8e2581577",
    "execution": {
     "iopub.execute_input": "2022-12-29T11:41:29.503409Z",
     "iopub.status.busy": "2022-12-29T11:41:29.502948Z",
     "iopub.status.idle": "2022-12-29T11:41:29.518524Z",
     "shell.execute_reply": "2022-12-29T11:41:29.516959Z",
     "shell.execute_reply.started": "2022-12-29T11:41:29.503348Z"
    },
    "jupyter": {
     "outputs_hidden": false
    }
   },
   "outputs": [],
   "source": [
    "sm.edges(data=\"weight\")"
   ]
  },
  {
   "cell_type": "code",
   "execution_count": null,
   "metadata": {
    "_cell_guid": "2e930ef2-0e6b-481c-a394-76038fc242a6",
    "_uuid": "6167681b-853e-47e6-a8df-c16bcab4d44a",
    "execution": {
     "iopub.execute_input": "2022-12-29T11:41:29.573496Z",
     "iopub.status.busy": "2022-12-29T11:41:29.571900Z",
     "iopub.status.idle": "2022-12-29T11:41:30.055149Z",
     "shell.execute_reply": "2022-12-29T11:41:30.053761Z",
     "shell.execute_reply.started": "2022-12-29T11:41:29.573434Z"
    },
    "jupyter": {
     "outputs_hidden": false
    }
   },
   "outputs": [],
   "source": [
    "#constructing the graph\n",
    "graph_attributes = {\n",
    "    \"splines\": \"spline\",  \n",
    "    \"ordering\": \"out\",\n",
    "    \"ratio\": \"auto\",  \n",
    "    \"size\": \"16,9!\",  \n",
    "    \"label\": \"Causal inference for UDP port attack\",\n",
    "    \"fontcolor\": \"black\",\n",
    "    \"fontname\": \"Helvetica\",\n",
    "    \"fontsize\": 150,\n",
    "    \"labeljust\": \"l\",\n",
    "    \"labelloc\": \"t\",\n",
    "    \"pad\": \"1,1\",\n",
    "    \"dpi\": 200,\n",
    "    \"nodesep\": 0.8,\n",
    "    \"ranksep\": \".5 equally\",\n",
    "    \"bgcolor\":\"white\",\n",
    "    \"scale\":0.5\n",
    "}\n",
    "node_attributes = {\n",
    "    node: {\n",
    "        \"shape\": \"octagon\",\n",
    "        \"width\": 10,\n",
    "        \"height\": 10,\n",
    "        \"fillcolor\": \"#BDFF52\",\n",
    "        \"penwidth\": \"10\",\n",
    "        \"color\": \"black\",\n",
    "        \"fontsize\": 100,\n",
    "        \"labelloc\": \"b\",\n",
    "        \"fontcolor\":\"black\"\n",
    "    }\n",
    "    for node in sm.nodes\n",
    "}\n",
    "\n",
    "node_attributes[\"is_attack\"][\"fillcolor\"] = \"red\"\n",
    "for node in sm.predecessors(\"is_attack\"):\n",
    "        node_attributes[node][\"fillcolor\"] = \"#FF370A\"\n",
    "        \n",
    "edge_attributes = {\n",
    "    (u, v): {\n",
    "        \"penwidth\": 2,  \n",
    "        \"weight\": 5 , \n",
    "        \"arrowsize\": 10 ,  \n",
    "        \"arrowtail\": \"dot\",\n",
    "        \"color\":\"black\"\n",
    "    }\n",
    "    for u, v, w in sm.edges(data=\"weight\")\n",
    "}\n",
    "\n",
    "\n",
    "viz = plot_structure(\n",
    "    sm,\n",
    "    prog=\"circo\",\n",
    "    graph_attributes=graph_attributes,\n",
    "    node_attributes=node_attributes,\n",
    "    edge_attributes=edge_attributes,\n",
    ")\n",
    "f = \"final_causal_model_ScanA.jpg\"\n",
    "viz.draw(f)\n",
    "Image(f)"
   ]
  },
  {
   "cell_type": "code",
   "execution_count": null,
   "metadata": {
    "_cell_guid": "2dd5d6ef-7454-46a4-bba1-539ccfa10004",
    "_uuid": "d116780c-dc7d-4ae3-992e-a09beb9202eb",
    "execution": {
     "iopub.execute_input": "2022-12-29T11:41:30.104920Z",
     "iopub.status.busy": "2022-12-29T11:41:30.104536Z",
     "iopub.status.idle": "2022-12-29T11:41:30.111935Z",
     "shell.execute_reply": "2022-12-29T11:41:30.111054Z",
     "shell.execute_reply.started": "2022-12-29T11:41:30.104886Z"
    },
    "jupyter": {
     "outputs_hidden": false
    }
   },
   "outputs": [],
   "source": [
    "# Bayesian Networks in CausalNex support only discrete distributions.\n",
    "# So change to continuous value to discrete values and distributions\n",
    "\n",
    "col = df_feat.columns.tolist()\n",
    "col"
   ]
  },
  {
   "cell_type": "code",
   "execution_count": null,
   "metadata": {
    "_cell_guid": "9af6ef1e-6001-48e5-b5fb-2ac84abb9d47",
    "_uuid": "9176cdcb-aeb6-4f17-8e72-d8cbde2af20a",
    "execution": {
     "iopub.execute_input": "2022-12-29T11:41:30.145272Z",
     "iopub.status.busy": "2022-12-29T11:41:30.144265Z",
     "iopub.status.idle": "2022-12-29T11:41:30.284248Z",
     "shell.execute_reply": "2022-12-29T11:41:30.282716Z",
     "shell.execute_reply.started": "2022-12-29T11:41:30.145232Z"
    },
    "jupyter": {
     "outputs_hidden": false
    }
   },
   "outputs": [],
   "source": [
    "# library for make dsicrete value\n",
    "from causalnex.discretiser import Discretiser\n",
    "\n",
    "df_c = df_feat.loc[:,:]\n",
    "\n",
    "for i in range(len(col)-1):\n",
    "    c = col[i]\n",
    "    df_c[c] = Discretiser(method=\"uniform\",num_buckets=2).fit(df_c[c].values).transform(df_c[c].values)"
   ]
  },
  {
   "cell_type": "code",
   "execution_count": null,
   "metadata": {
    "_cell_guid": "1e382660-bad3-4ea0-bbdc-234d6a6af489",
    "_uuid": "be6a6ec2-f3a1-49b9-8463-57717780227d",
    "execution": {
     "iopub.execute_input": "2022-12-29T11:41:30.295479Z",
     "iopub.status.busy": "2022-12-29T11:41:30.295111Z",
     "iopub.status.idle": "2022-12-29T11:41:30.325030Z",
     "shell.execute_reply": "2022-12-29T11:41:30.323703Z",
     "shell.execute_reply.started": "2022-12-29T11:41:30.295445Z"
    },
    "jupyter": {
     "outputs_hidden": false
    }
   },
   "outputs": [],
   "source": [
    "df_c.info()"
   ]
  },
  {
   "cell_type": "markdown",
   "metadata": {},
   "source": [
    "# Leaning the Bayesian causal model"
   ]
  },
  {
   "cell_type": "code",
   "execution_count": null,
   "metadata": {
    "_cell_guid": "10e80e7f-5de4-4805-9bfc-a5db85a35d3a",
    "_uuid": "be6e2d9b-db7e-4efc-9555-ab8ac3009149",
    "execution": {
     "iopub.execute_input": "2022-12-29T11:41:34.013034Z",
     "iopub.status.busy": "2022-12-29T11:41:34.012656Z",
     "iopub.status.idle": "2022-12-29T11:41:34.037735Z",
     "shell.execute_reply": "2022-12-29T11:41:34.036461Z",
     "shell.execute_reply.started": "2022-12-29T11:41:34.013001Z"
    },
    "jupyter": {
     "outputs_hidden": false
    }
   },
   "outputs": [],
   "source": [
    "#Splitting the test and train data\n",
    "\n",
    "train, test = train_test_split(df_c, train_size=0.8, test_size=0.2, random_state=10)"
   ]
  },
  {
   "cell_type": "code",
   "execution_count": null,
   "metadata": {
    "_cell_guid": "74f5452a-2d40-42cf-8691-3b53abdeb455",
    "_uuid": "2630d7a9-f5ff-4cae-9354-b2a563287778",
    "execution": {
     "iopub.execute_input": "2022-12-29T11:41:34.039815Z",
     "iopub.status.busy": "2022-12-29T11:41:34.039463Z",
     "iopub.status.idle": "2022-12-29T11:41:35.047867Z",
     "shell.execute_reply": "2022-12-29T11:41:35.046469Z",
     "shell.execute_reply.started": "2022-12-29T11:41:34.039782Z"
    },
    "jupyter": {
     "outputs_hidden": false
    }
   },
   "outputs": [],
   "source": [
    "#Learning the conditional probability distribution\n",
    "bn = BayesianNetwork(sm)"
   ]
  },
  {
   "cell_type": "code",
   "execution_count": null,
   "metadata": {
    "_cell_guid": "955347af-9d02-4c7b-b054-3376555cf2c4",
    "_uuid": "133197e3-3f79-47a2-9b7b-115af1ffdb2f",
    "execution": {
     "iopub.execute_input": "2022-12-29T11:41:35.050968Z",
     "iopub.status.busy": "2022-12-29T11:41:35.049922Z",
     "iopub.status.idle": "2022-12-29T11:41:35.068008Z",
     "shell.execute_reply": "2022-12-29T11:41:35.066922Z",
     "shell.execute_reply.started": "2022-12-29T11:41:35.050917Z"
    },
    "jupyter": {
     "outputs_hidden": false
    }
   },
   "outputs": [],
   "source": [
    "# 1st, The first step in this is specifying all of the states that each node can take.\n",
    "bn = bn.fit_node_states(df_c)"
   ]
  },
  {
   "cell_type": "code",
   "execution_count": null,
   "metadata": {
    "_cell_guid": "1a76c74c-9814-4852-8501-94e65a088276",
    "_uuid": "f8903def-5353-42ff-94a1-6e32f667f9d4",
    "execution": {
     "iopub.execute_input": "2022-12-29T11:41:35.070522Z",
     "iopub.status.busy": "2022-12-29T11:41:35.069731Z",
     "iopub.status.idle": "2022-12-29T11:41:38.966358Z",
     "shell.execute_reply": "2022-12-29T11:41:38.965450Z",
     "shell.execute_reply.started": "2022-12-29T11:41:35.070466Z"
    },
    "jupyter": {
     "outputs_hidden": false
    }
   },
   "outputs": [],
   "source": [
    "# fit to train data\n",
    "bn = bn.fit_cpds(train, method=\"BayesianEstimator\", bayes_prior=\"K2\")"
   ]
  },
  {
   "cell_type": "code",
   "execution_count": null,
   "metadata": {
    "_cell_guid": "ca6a136e-0c15-445d-92d6-564911a6774b",
    "_uuid": "be6647b1-82b5-429a-bc9b-72fd5aa24227",
    "execution": {
     "iopub.execute_input": "2022-12-29T11:41:39.252191Z",
     "iopub.status.busy": "2022-12-29T11:41:39.251804Z",
     "iopub.status.idle": "2022-12-29T11:41:41.915875Z",
     "shell.execute_reply": "2022-12-29T11:41:41.914435Z",
     "shell.execute_reply.started": "2022-12-29T11:41:39.252158Z"
    },
    "jupyter": {
     "outputs_hidden": false
    }
   },
   "outputs": [],
   "source": [
    "# prediction the target attribute\n",
    "predictions = bn.predict(test, \"is_attack\")"
   ]
  },
  {
   "cell_type": "code",
   "execution_count": null,
   "metadata": {
    "_cell_guid": "da4c3340-abba-4fde-b35f-7e32893407d9",
    "_uuid": "be8f1d0d-4969-4b07-b0ca-e8b70918a1c5",
    "execution": {
     "iopub.execute_input": "2022-12-29T11:41:41.951028Z",
     "iopub.status.busy": "2022-12-29T11:41:41.950634Z",
     "iopub.status.idle": "2022-12-29T11:41:41.964469Z",
     "shell.execute_reply": "2022-12-29T11:41:41.963185Z",
     "shell.execute_reply.started": "2022-12-29T11:41:41.950974Z"
    },
    "jupyter": {
     "outputs_hidden": false
    }
   },
   "outputs": [],
   "source": [
    "test[\"is_attack\"].values"
   ]
  },
  {
   "cell_type": "code",
   "execution_count": null,
   "metadata": {
    "_cell_guid": "4a0ceca1-32dc-430f-8fc1-339a08be0591",
    "_uuid": "8e2992f4-d4a5-4cc2-84e0-297c04148a2f",
    "execution": {
     "iopub.execute_input": "2022-12-29T11:41:41.967432Z",
     "iopub.status.busy": "2022-12-29T11:41:41.966115Z",
     "iopub.status.idle": "2022-12-29T11:41:44.749043Z",
     "shell.execute_reply": "2022-12-29T11:41:44.747787Z",
     "shell.execute_reply.started": "2022-12-29T11:41:41.967361Z"
    },
    "jupyter": {
     "outputs_hidden": false
    }
   },
   "outputs": [],
   "source": [
    "# accuracy score etc.\n",
    "classification_report(bn, test, \"is_attack\")"
   ]
  },
  {
   "cell_type": "markdown",
   "metadata": {},
   "source": [
    "# Building the ROC and AUC curves"
   ]
  },
  {
   "cell_type": "code",
   "execution_count": null,
   "metadata": {
    "_cell_guid": "95d34c08-2dcb-412b-bf6b-b6cc62065676",
    "_uuid": "423a33ec-1f91-4ddd-ac9b-b330f07971f4",
    "execution": {
     "iopub.execute_input": "2022-12-29T11:41:44.760969Z",
     "iopub.status.busy": "2022-12-29T11:41:44.760542Z",
     "iopub.status.idle": "2022-12-29T11:41:49.955739Z",
     "shell.execute_reply": "2022-12-29T11:41:49.954405Z",
     "shell.execute_reply.started": "2022-12-29T11:41:44.760933Z"
    },
    "jupyter": {
     "outputs_hidden": false
    }
   },
   "outputs": [],
   "source": [
    "from causalnex.evaluation import roc_auc\n",
    "roc, auc = roc_auc(bn, test, \"is_attack\")\n",
    "print(roc)\n",
    "print(auc)"
   ]
  },
  {
   "cell_type": "code",
   "execution_count": null,
   "metadata": {
    "execution": {
     "iopub.execute_input": "2022-12-29T11:41:49.958170Z",
     "iopub.status.busy": "2022-12-29T11:41:49.957606Z",
     "iopub.status.idle": "2022-12-29T11:41:49.969968Z",
     "shell.execute_reply": "2022-12-29T11:41:49.968732Z",
     "shell.execute_reply.started": "2022-12-29T11:41:49.958133Z"
    }
   },
   "outputs": [],
   "source": [
    "test['is_attack']"
   ]
  },
  {
   "cell_type": "code",
   "execution_count": null,
   "metadata": {
    "execution": {
     "iopub.execute_input": "2022-12-29T11:41:49.972304Z",
     "iopub.status.busy": "2022-12-29T11:41:49.971885Z",
     "iopub.status.idle": "2022-12-29T11:41:49.994599Z",
     "shell.execute_reply": "2022-12-29T11:41:49.993009Z",
     "shell.execute_reply.started": "2022-12-29T11:41:49.972266Z"
    }
   },
   "outputs": [],
   "source": [
    "predictions['is_attack_prediction'],"
   ]
  },
  {
   "cell_type": "code",
   "execution_count": null,
   "metadata": {
    "execution": {
     "iopub.execute_input": "2022-12-29T11:41:49.997616Z",
     "iopub.status.busy": "2022-12-29T11:41:49.996474Z",
     "iopub.status.idle": "2022-12-29T11:41:50.010001Z",
     "shell.execute_reply": "2022-12-29T11:41:50.008031Z",
     "shell.execute_reply.started": "2022-12-29T11:41:49.997565Z"
    }
   },
   "outputs": [],
   "source": [
    "from sklearn.metrics import roc_curve\n",
    "fpr1, tpr1, thresh1 = roc_curve(test['is_attack'], predictions['is_attack_prediction'], pos_label=1)\n",
    "print(fpr1, tpr1, thresh1)"
   ]
  },
  {
   "cell_type": "code",
   "execution_count": null,
   "metadata": {
    "execution": {
     "iopub.execute_input": "2022-12-29T11:41:50.012365Z",
     "iopub.status.busy": "2022-12-29T11:41:50.011827Z",
     "iopub.status.idle": "2022-12-29T11:41:50.033395Z",
     "shell.execute_reply": "2022-12-29T11:41:50.031926Z",
     "shell.execute_reply.started": "2022-12-29T11:41:50.012313Z"
    }
   },
   "outputs": [],
   "source": [
    "from sklearn.metrics import roc_auc_score\n",
    "\n",
    "# auc scores\n",
    "auc_score1 = roc_auc_score(test['is_attack'],predictions['is_attack_prediction'])\n",
    "print(auc_score1 )"
   ]
  },
  {
   "cell_type": "code",
   "execution_count": null,
   "metadata": {
    "_cell_guid": "53752301-6ee8-4259-8c26-ee4706f20ffb",
    "_uuid": "2c1c8828-1584-4871-9dce-56ab0038e0b1",
    "execution": {
     "iopub.execute_input": "2022-12-29T11:41:50.036743Z",
     "iopub.status.busy": "2022-12-29T11:41:50.035767Z",
     "iopub.status.idle": "2022-12-29T11:41:50.044080Z",
     "shell.execute_reply": "2022-12-29T11:41:50.042533Z",
     "shell.execute_reply.started": "2022-12-29T11:41:50.036703Z"
    },
    "jupyter": {
     "outputs_hidden": false
    }
   },
   "outputs": [],
   "source": [
    "x = []\n",
    "y = []\n",
    "for i in roc:\n",
    "    x.append(i[0])\n",
    "    y.append(i[1])"
   ]
  },
  {
   "cell_type": "code",
   "execution_count": null,
   "metadata": {
    "_cell_guid": "6ea8a03d-7033-4965-8e7c-4ffcead18a8f",
    "_uuid": "03beee11-61a1-40e2-ad26-a1bc2be817e4",
    "execution": {
     "iopub.execute_input": "2022-12-29T11:41:50.096037Z",
     "iopub.status.busy": "2022-12-29T11:41:50.094650Z",
     "iopub.status.idle": "2022-12-29T11:41:50.464231Z",
     "shell.execute_reply": "2022-12-29T11:41:50.462626Z",
     "shell.execute_reply.started": "2022-12-29T11:41:50.095991Z"
    },
    "jupyter": {
     "outputs_hidden": false
    }
   },
   "outputs": [],
   "source": [
    "plt.plot(x,y)\n",
    "plt.ylabel('True Positive Rate')\n",
    "plt.xlabel('False Positive Rate')\n",
    "plt.savefig('roc1', transparent = True,\n",
    "            facecolor =\"w\",bbox_inches=\"tight\")\n",
    "plt.show()"
   ]
  },
  {
   "cell_type": "code",
   "execution_count": null,
   "metadata": {
    "_cell_guid": "4be07729-2e22-485e-994d-b69601f3e73f",
    "_uuid": "fcc72c7a-f3f2-4be8-b65e-08b8a391b842",
    "execution": {
     "iopub.execute_input": "2022-12-29T11:41:50.466867Z",
     "iopub.status.busy": "2022-12-29T11:41:50.466274Z",
     "iopub.status.idle": "2022-12-29T11:41:50.486775Z",
     "shell.execute_reply": "2022-12-29T11:41:50.485908Z",
     "shell.execute_reply.started": "2022-12-29T11:41:50.466829Z"
    },
    "jupyter": {
     "outputs_hidden": false
    }
   },
   "outputs": [],
   "source": [
    "plt.savefig('roc')"
   ]
  },
  {
   "cell_type": "markdown",
   "metadata": {
    "execution": {
     "iopub.execute_input": "2022-12-29T11:41:50.497743Z",
     "iopub.status.busy": "2022-12-29T11:41:50.497219Z",
     "iopub.status.idle": "2022-12-29T11:42:04.979991Z",
     "shell.execute_reply": "2022-12-29T11:42:04.978442Z",
     "shell.execute_reply.started": "2022-12-29T11:41:50.497702Z"
    }
   },
   "source": [
    "# Finding the robustness of the model using microsoft DoWhy"
   ]
  },
  {
   "cell_type": "code",
   "execution_count": null,
   "metadata": {
    "_cell_guid": "d531f060-fcde-494d-853f-3ef7fb459551",
    "_uuid": "54bae4d2-49b3-4fe9-b4d6-2c974512dd08",
    "execution": {
     "iopub.execute_input": "2022-12-29T11:42:05.779521Z",
     "iopub.status.busy": "2022-12-29T11:42:05.777475Z",
     "iopub.status.idle": "2022-12-29T11:42:05.785567Z",
     "shell.execute_reply": "2022-12-29T11:42:05.784273Z",
     "shell.execute_reply.started": "2022-12-29T11:42:05.779462Z"
    },
    "jupyter": {
     "outputs_hidden": false
    }
   },
   "outputs": [],
   "source": [
    "#taking the treatment variables of the target from the constructed model\n",
    "treatment =  list(sm.predecessors(\"is_attack\"))"
   ]
  },
  {
   "cell_type": "code",
   "execution_count": null,
   "metadata": {
    "_cell_guid": "7c90dab6-d8a1-44f8-8b1e-e33914e0a801",
    "_uuid": "19f9a686-69fc-4b87-8bfc-7cd8687979aa",
    "execution": {
     "iopub.execute_input": "2022-12-29T11:42:05.787424Z",
     "iopub.status.busy": "2022-12-29T11:42:05.787000Z",
     "iopub.status.idle": "2022-12-29T11:42:05.810642Z",
     "shell.execute_reply": "2022-12-29T11:42:05.809378Z",
     "shell.execute_reply.started": "2022-12-29T11:42:05.787365Z"
    },
    "jupyter": {
     "outputs_hidden": false
    }
   },
   "outputs": [],
   "source": [
    "outcome ='is_attack'"
   ]
  },
  {
   "cell_type": "code",
   "execution_count": null,
   "metadata": {
    "_cell_guid": "8b9a6fe5-8504-457e-b65e-b2d234b53fb5",
    "_uuid": "bd189d76-ffe4-4fac-b132-be0e6385aff7",
    "execution": {
     "iopub.execute_input": "2022-12-29T11:42:05.812931Z",
     "iopub.status.busy": "2022-12-29T11:42:05.812572Z",
     "iopub.status.idle": "2022-12-29T11:42:05.953261Z",
     "shell.execute_reply": "2022-12-29T11:42:05.951835Z",
     "shell.execute_reply.started": "2022-12-29T11:42:05.812897Z"
    },
    "jupyter": {
     "outputs_hidden": false
    }
   },
   "outputs": [],
   "source": [
    "#learning the model with the constructed causal model \n",
    "model= dowhy.CausalModel(\n",
    "        data = df_feat,\n",
    "        graph=(\"./graphLargestSubgraph.dot\"),\n",
    "        treatment= treatment,\n",
    "        outcome=outcome)\n",
    "model.view_model()\n",
    "\n",
    "display(Image(filename=\"causal_model.png\"))"
   ]
  },
  {
   "cell_type": "code",
   "execution_count": null,
   "metadata": {
    "_cell_guid": "9c55cd12-b11b-460b-a895-397055bce184",
    "_uuid": "685863eb-98b4-4b58-ae71-80ac634dcc81",
    "execution": {
     "iopub.execute_input": "2022-12-29T11:42:05.956589Z",
     "iopub.status.busy": "2022-12-29T11:42:05.955556Z",
     "iopub.status.idle": "2022-12-29T11:42:06.369748Z",
     "shell.execute_reply": "2022-12-29T11:42:06.368431Z",
     "shell.execute_reply.started": "2022-12-29T11:42:05.956534Z"
    },
    "jupyter": {
     "outputs_hidden": false
    }
   },
   "outputs": [],
   "source": [
    "#Identify the causal effect\n",
    "identified_estimand = model.identify_effect(proceed_when_unidentifiable=True)\n",
    "print(identified_estimand)"
   ]
  },
  {
   "cell_type": "code",
   "execution_count": null,
   "metadata": {
    "_cell_guid": "c14952cd-35f3-4aa6-9a1b-aa9c7642d44f",
    "_uuid": "f0c02ae5-90e3-4a04-b3a7-a78860f45780",
    "execution": {
     "iopub.execute_input": "2022-12-29T11:42:06.372409Z",
     "iopub.status.busy": "2022-12-29T11:42:06.371869Z",
     "iopub.status.idle": "2022-12-29T11:42:06.514829Z",
     "shell.execute_reply": "2022-12-29T11:42:06.513599Z",
     "shell.execute_reply.started": "2022-12-29T11:42:06.372299Z"
    },
    "jupyter": {
     "outputs_hidden": false
    }
   },
   "outputs": [],
   "source": [
    "#estimate the values\n",
    "estimate = model.estimate_effect(identified_estimand,method_name=\"backdoor.linear_regression\")\n",
    "print(estimate)"
   ]
  },
  {
   "cell_type": "code",
   "execution_count": null,
   "metadata": {
    "_cell_guid": "62fcf156-ba74-4642-b92a-3e5e8adbfaba",
    "_uuid": "00ec40c8-1983-4215-9470-6ec72b4a674a",
    "execution": {
     "iopub.execute_input": "2022-12-29T11:42:22.600561Z",
     "iopub.status.busy": "2022-12-29T11:42:22.599675Z",
     "iopub.status.idle": "2022-12-29T11:42:31.978070Z",
     "shell.execute_reply": "2022-12-29T11:42:31.976855Z",
     "shell.execute_reply.started": "2022-12-29T11:42:22.600512Z"
    },
    "jupyter": {
     "outputs_hidden": false
    }
   },
   "outputs": [],
   "source": [
    "#placebo treatment refuter\n",
    "refute2_results=model.refute_estimate(identified_estimand, estimate,\n",
    "        method_name=\"placebo_treatment_refuter\")\n",
    "print(refute2_results)"
   ]
  },
  {
   "cell_type": "code",
   "execution_count": null,
   "metadata": {
    "_cell_guid": "3d277c17-b530-4f61-a912-2da9a69ce5ef",
    "_uuid": "ca9ea1df-212f-462e-96fd-1a5fddd9c0f0",
    "execution": {
     "iopub.execute_input": "2022-12-29T11:42:31.989009Z",
     "iopub.status.busy": "2022-12-29T11:42:31.980047Z",
     "iopub.status.idle": "2022-12-29T11:42:44.786868Z",
     "shell.execute_reply": "2022-12-29T11:42:44.785585Z",
     "shell.execute_reply.started": "2022-12-29T11:42:31.988901Z"
    },
    "jupyter": {
     "outputs_hidden": false
    }
   },
   "outputs": [],
   "source": [
    "#data subset refuter\n",
    "refute3_results=model.refute_estimate(identified_estimand, estimate,\n",
    "        method_name=\"data_subset_refuter\")\n",
    "print(refute3_results)"
   ]
  },
  {
   "cell_type": "markdown",
   "metadata": {
    "_cell_guid": "ea7abb38-4e60-451b-a586-8a4d5b91de73",
    "_uuid": "bdfb6eaf-5917-415c-9631-f5fe403f8dfe",
    "jupyter": {
     "outputs_hidden": false
    }
   },
   "source": [
    "# Calculating the results of other machine learning algorithm from the filtered attributes"
   ]
  },
  {
   "cell_type": "code",
   "execution_count": null,
   "metadata": {},
   "outputs": [],
   "source": [
    "def getMeasurements( y_pred,y_test):\n",
    "    meas = {}\n",
    "    meas['Accuracy'] = metrics.accuracy_score(y_test, y_pred)\n",
    "    meas['Precison'] = metrics.precision_score(y_test, y_pred)\n",
    "    meas['Recall'] = metrics.recall_score(y_test, y_pred)\n",
    "    meas['F1score'] = metrics.f1_score(y_test, y_pred)\n",
    "    \n",
    "    return meas"
   ]
  },
  {
   "cell_type": "code",
   "execution_count": null,
   "metadata": {},
   "outputs": [],
   "source": [
    "def MLAlgorithms(df_feat,x,y):\n",
    "        \n",
    "            X_train, X_test, y_train, y_test = train_test_split(x, y, test_size = 0.2, random_state=42)\n",
    "            print(\"SVM\")\n",
    "            clf = svm.SVC()\n",
    "            clf.fit(X_train, y_train)\n",
    "            y_pred= clf.predict(X_test) # 0:Overcast, 2:Mild\n",
    "            fpr1, tpr1, thresh1 = roc_curve(y_test, y_pred, pos_label=1)\n",
    "            print(metrics.auc(fpr1, tpr1))\n",
    "            plt.plot(fpr1, tpr1, label=\"SVM\")\n",
    "            print(getMeasurements(y_pred,y_test))\n",
    "            print(\"KNN\")\n",
    "            \n",
    "            \n",
    "            knn = KNeighborsClassifier()\n",
    " \n",
    "            knn.fit(X_train, y_train)\n",
    "\n",
    "            # Predict on dataset which model has not seen before\n",
    "            y_pred = knn.predict(X_test)\n",
    "            fpr1, tpr1, thresh1 = roc_curve(y_test, y_pred, pos_label=1)\n",
    "            print(metrics.auc(fpr1, tpr1))\n",
    "            plt.plot(fpr1, tpr1, label=\"KNN\")\n",
    "            print(getMeasurements( y_pred,y_test))\n",
    "            \n",
    "            print(\"Decision tree\")\n",
    "            clf = tree.DecisionTreeClassifier()\n",
    "            clf = clf.fit(X_train,y_train)\n",
    "            y_pred = clf.predict(X_test)\n",
    "            fpr1, tpr1, thresh1 = roc_curve(y_test, y_pred, pos_label=1)\n",
    "            print(metrics.auc(fpr1, tpr1))\n",
    "            #plot(fpr1,tpr1,\"Decision Tree\")\n",
    "            plt.plot(fpr1, tpr1, label=\"Decision Tree\")\n",
    "            print(getMeasurements( y_pred,y_test))\n",
    "            \n",
    "            print(\"Random Forest\")\n",
    "            regressor = RandomForestRegressor(n_estimators=20, random_state=0)\n",
    "            regressor.fit(X_train, y_train)\n",
    "            y_pred = regressor.predict(X_test)\n",
    "            print(getMeasurements( y_pred.round(),y_test))\n",
    "            \n",
    "            print(\"Naive Bayesian\")\n",
    "            model = GaussianNB()\n",
    "\n",
    "            # Train the model using the training sets\n",
    "            model.fit(X_train,y_train)\n",
    "            #Predict Output\n",
    "            y_pred= model.predict(X_test) # 0:Overcast, 2:Mild\n",
    "            roc_auc_score(y_test,y_pred)\n",
    "            fpr1, tpr1, thresh1 = roc_curve(y_test, y_pred, pos_label=1)\n",
    "            print(metrics.auc(fpr1, tpr1))\n",
    "            plt.plot(fpr1, tpr1, label=\"Naive Bayesian\")\n",
    "            #plot(fpr1,tpr1,\"Naive Bayesian\")\n",
    "            print(getMeasurements( y_pred,y_test))\n",
    "            #initialPlot()\n",
    "            plt.legend(loc='best')\n",
    "            plt.savefig('ROC'+filename[:-4]+\".pdf\"\n",
    "                        ,dpi=300)\n",
    "            plt.show();\n"
   ]
  },
  {
   "cell_type": "code",
   "execution_count": null,
   "metadata": {},
   "outputs": [],
   "source": [
    "columnsNames = sm.predecessors(\"is_attack\")\n",
    "dfNew = pd.DataFrame(df_c, columns = columnsNames)\n"
   ]
  },
  {
   "cell_type": "code",
   "execution_count": null,
   "metadata": {},
   "outputs": [],
   "source": [
    "y = df_c[\"is_attack\"]\n",
    "x = dfNew\n",
    "dfNew[\"is_attack\"] = df_c[\"is_attack\"]\n",
    "MLAlgorithms(dfNew,x,y)"
   ]
  }
 ],
 "metadata": {
  "kernelspec": {
   "display_name": "Python 3 (ipykernel)",
   "language": "python",
   "name": "python3"
  },
  "language_info": {
   "codemirror_mode": {
    "name": "ipython",
    "version": 3
   },
   "file_extension": ".py",
   "mimetype": "text/x-python",
   "name": "python",
   "nbconvert_exporter": "python",
   "pygments_lexer": "ipython3",
   "version": "3.7.6"
  }
 },
 "nbformat": 4,
 "nbformat_minor": 4
}
